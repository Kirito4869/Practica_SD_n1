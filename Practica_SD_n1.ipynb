{
  "nbformat": 4,
  "nbformat_minor": 0,
  "metadata": {
    "colab": {
      "name": "Practica_SD_n1.ipynb",
      "provenance": [],
      "collapsed_sections": []
    },
    "kernelspec": {
      "name": "python3",
      "display_name": "Python 3"
    }
  },
  "cells": [
    {
      "cell_type": "markdown",
      "metadata": {
        "id": "vtfGiXkbKjAP"
      },
      "source": [
        "Práctica sobre analisis de datos, usando Pandas, y cómputo distribuido con Dask"
      ]
    },
    {
      "cell_type": "markdown",
      "metadata": {
        "id": "LUdbRASZLZb3"
      },
      "source": [
        "Ejercicio 1.\n",
        "\n",
        "• Descargar del siguiente link el conjunto de datos: Quien es quien en el precio de los productos.\n",
        "\n",
        "https://s3.amazonaws.com/nyc-tlc/trip+data/yellow_tripdata_2020-01.csv\n",
        "\n",
        "Para hacerlo pueen usar el comando wget o bien con Pandas, tal como lo hicimos en las clases anteriores."
      ]
    },
    {
      "cell_type": "code",
      "metadata": {
        "id": "FFToPXeqWmhr"
      },
      "source": [
        "import pandas as pd\n",
        "import psutil, os\n",
        "import numpy as np"
      ],
      "execution_count": 1,
      "outputs": []
    },
    {
      "cell_type": "code",
      "metadata": {
        "id": "y6hspw-YW2JX"
      },
      "source": [
        "url =\"https://s3.amazonaws.com/nyc-tlc/trip+data/yellow_tripdata_2020-01.csv\""
      ],
      "execution_count": 3,
      "outputs": []
    },
    {
      "cell_type": "markdown",
      "metadata": {
        "id": "THjWD4pSMt4Z"
      },
      "source": [
        "Ejercicio 2.\n",
        " \n",
        "• Visualizar el dataframe para ver su estructura. Utilizar el método head para realizar este punto."
      ]
    },
    {
      "cell_type": "code",
      "metadata": {
        "id": "HYp9pn46XJql"
      },
      "source": [
        "df = pd.read_csv(url)\n",
        "df.head()"
      ],
      "execution_count": null,
      "outputs": []
    },
    {
      "cell_type": "code",
      "metadata": {
        "id": "tJXEPxKXfK34"
      },
      "source": [
        "df.shape"
      ],
      "execution_count": null,
      "outputs": []
    },
    {
      "cell_type": "markdown",
      "metadata": {
        "id": "pTUIdTNwNT2I"
      },
      "source": [
        "Ejercicio 3.\n",
        " \n",
        "• a) Calcular el promedio de las tarifas de la columna fare_amount\n",
        "\n",
        "• b) Determinar cual es la tarifa más alta y cual la más baja\n",
        "\n",
        "• c) Graficar las tarifas versus payment_type"
      ]
    },
    {
      "cell_type": "code",
      "metadata": {
        "id": "Is31U4Ze8gW7"
      },
      "source": [
        "df2= pd.read_csv(url)\n",
        "df2.head()\n",
        "df2[\"fare_amount\"].fillna(df2[\"fare_amount\"].mean())"
      ],
      "execution_count": null,
      "outputs": []
    },
    {
      "cell_type": "code",
      "metadata": {
        "id": "NsZJuaWgAXb8"
      },
      "source": [
        "df2['fare_amount']=pd.to_numeric(df['fare_amount'])\n",
        "print(\"El Valor maximo es: \", df2['fare_amount'].max())\n",
        "print(\"El Valor minimo es: \", df2['fare_amount'].min())"
      ],
      "execution_count": null,
      "outputs": []
    },
    {
      "cell_type": "code",
      "metadata": {
        "id": "2tQPR7-JJraR"
      },
      "source": [
        "import matplotlib.pyplot as plt"
      ],
      "execution_count": 5,
      "outputs": []
    },
    {
      "cell_type": "code",
      "metadata": {
        "id": "wW7l00w9-2vv"
      },
      "source": [
        "df.plot(kind='scatter',x='fare_amount',y='payment_type')"
      ],
      "execution_count": null,
      "outputs": []
    },
    {
      "cell_type": "markdown",
      "metadata": {
        "id": "a-VLhh19QuKr"
      },
      "source": [
        "Ejercicio 4.\n",
        "\n",
        "• Aplicar un modelo de regresión lineal al producto elegido, utilizando los siguientes valores para alpha = 2.0  y beta = 1.1 su modelo de regresión deber ser entonces: 2.0+1.1*x+e "
      ]
    },
    {
      "cell_type": "code",
      "metadata": {
        "id": "wXvh1g7LVwka"
      },
      "source": [
        "d=pd.read_csv(url)"
      ],
      "execution_count": null,
      "outputs": []
    },
    {
      "cell_type": "code",
      "metadata": {
        "id": "hTJ9R63Nlgr7"
      },
      "source": [
        "d['fare_amount']=df2['fare_amount']"
      ],
      "execution_count": 14,
      "outputs": []
    },
    {
      "cell_type": "code",
      "metadata": {
        "id": "QXmPVDePKsss"
      },
      "source": [
        "x=2.0+1.1*np.random.rand(100)\n",
        "x"
      ],
      "execution_count": null,
      "outputs": []
    },
    {
      "cell_type": "code",
      "metadata": {
        "id": "eQ_7pVSY47q-"
      },
      "source": [
        "e=0+1.1*np.random.rand(100)\n",
        "e"
      ],
      "execution_count": null,
      "outputs": []
    },
    {
      "cell_type": "code",
      "metadata": {
        "id": "36dpLJIF6_fz"
      },
      "source": [
        "y_pred=2.0+1.1*x\n",
        "y_actual=2.0+1.1*x+e\n",
        "y_pred"
      ],
      "execution_count": null,
      "outputs": []
    },
    {
      "cell_type": "code",
      "metadata": {
        "id": "N4uUAy-H9wJW"
      },
      "source": [
        "x_list=x.tolist()\n",
        "y_pred_list=y_pred.tolist()\n",
        "y_actual_list=y_actual.tolist()"
      ],
      "execution_count": 52,
      "outputs": []
    },
    {
      "cell_type": "code",
      "metadata": {
        "id": "UfZ7W0mi95cP"
      },
      "source": [
        "df3=pd.DataFrame(\n",
        "    {\n",
        "        'x':x_list,\n",
        "        'y_actual':y_actual_list,\n",
        "        'y_pred':y_pred_list\n",
        "    }\n",
        ")\n",
        "df3.head()"
      ],
      "execution_count": null,
      "outputs": []
    },
    {
      "cell_type": "markdown",
      "metadata": {
        "id": "3hRQyhofcnBc"
      },
      "source": [
        "Ejercicio 5.\n",
        "\n",
        "• Extraer la columna fare_amount del dataset, pueden ser los precios, por ejemplo. Dividir  la columna en 10 chunks (trozos). Realizar  la suma de estos trozos con Dask, de tal manera que obtengamos un procesamiento paralelo. Medir el tiempo que tardó este procesamiento de la suma y obtener el diagrama de procesamiento."
      ]
    },
    {
      "cell_type": "code",
      "metadata": {
        "id": "dRLJc8-SK4V7"
      },
      "source": [
        "import dask.array as da"
      ],
      "execution_count": 7,
      "outputs": []
    },
    {
      "cell_type": "code",
      "metadata": {
        "id": "-cWR0XqBK6T4"
      },
      "source": [
        "d['fare_amount']=df2['fare_amount']"
      ],
      "execution_count": 15,
      "outputs": []
    },
    {
      "cell_type": "code",
      "metadata": {
        "id": "CjvDlJhvdRcE"
      },
      "source": [
        "%%time\n",
        "num_chunks=10\n",
        "chunks_tam=len(d)//num_chunks\n",
        "res=0"
      ],
      "execution_count": null,
      "outputs": []
    },
    {
      "cell_type": "code",
      "metadata": {
        "id": "OA_CgemJdeWL"
      },
      "source": [
        "%%time\n",
        "  for k in range(num_chunks):\n",
        "    offset=k*chunks_tam\n",
        "    d_chunk=d[offset:offset+chunks_tam]\n",
        "    res+=d_chunk.sum()"
      ],
      "execution_count": null,
      "outputs": []
    },
    {
      "cell_type": "code",
      "metadata": {
        "id": "GCjXOQlnmRjx"
      },
      "source": [
        "res"
      ],
      "execution_count": null,
      "outputs": []
    },
    {
      "cell_type": "code",
      "metadata": {
        "id": "fD7bHmKmmtFD"
      },
      "source": [
        "%time result_a_dask=a_dask.sum()\n",
        "%time result_a_dask.compute()"
      ],
      "execution_count": null,
      "outputs": []
    },
    {
      "cell_type": "code",
      "metadata": {
        "id": "lEpilc9OmiVn"
      },
      "source": [
        "result_a_dask.visualize(rankdir='LR')"
      ],
      "execution_count": null,
      "outputs": []
    }
  ]
}